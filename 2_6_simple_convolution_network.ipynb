{
  "nbformat": 4,
  "nbformat_minor": 0,
  "metadata": {
    "kernelspec": {
      "name": "python3",
      "display_name": "Python 3"
    },
    "language_info": {
      "codemirror_mode": {
        "name": "ipython",
        "version": 3
      },
      "file_extension": ".py",
      "mimetype": "text/x-python",
      "name": "python",
      "nbconvert_exporter": "python",
      "pygments_lexer": "ipython3",
      "version": "3.6.3"
    },
    "colab": {
      "name": "2_6_simple_convolution_network.ipynb",
      "provenance": [],
      "collapsed_sections": []
    },
    "accelerator": "GPU"
  },
  "cells": [
    {
      "cell_type": "markdown",
      "metadata": {
        "id": "8cNl2QA_Rnv5"
      },
      "source": [
        "# 準備"
      ]
    },
    {
      "cell_type": "markdown",
      "metadata": {
        "id": "YkwjN1jNVAYy"
      },
      "source": [
        "## Googleドライブのマウント"
      ]
    },
    {
      "cell_type": "code",
      "metadata": {
        "id": "pvFXpiH3EVC1",
        "colab": {
          "base_uri": "https://localhost:8080/"
        },
        "outputId": "d6c08b93-ebd1-491a-d0bf-8bd26cf0b2e7"
      },
      "source": [
        "from google.colab import drive\n",
        "drive.mount('/content/drive')"
      ],
      "execution_count": 1,
      "outputs": [
        {
          "output_type": "stream",
          "text": [
            "Drive already mounted at /content/drive; to attempt to forcibly remount, call drive.mount(\"/content/drive\", force_remount=True).\n"
          ],
          "name": "stdout"
        }
      ]
    },
    {
      "cell_type": "markdown",
      "metadata": {
        "id": "3Ub7RYdeY6pK"
      },
      "source": [
        "## sys.pathの設定"
      ]
    },
    {
      "cell_type": "markdown",
      "metadata": {
        "id": "oql7L19rEsWi"
      },
      "source": [
        "以下では，Googleドライブのマイドライブ直下にDNN_codeフォルダを置くことを仮定しています．必要に応じて，パスを変更してください．"
      ]
    },
    {
      "cell_type": "code",
      "metadata": {
        "id": "7Ic2JzkvFX59"
      },
      "source": [
        "import sys\n",
        "sys.path.append('/content/drive/My Drive/DNN_code_colab_lesson_1_2')"
      ],
      "execution_count": 2,
      "outputs": []
    },
    {
      "cell_type": "markdown",
      "metadata": {
        "id": "77mUsKgs41aZ"
      },
      "source": [
        "# simple convolution network"
      ]
    },
    {
      "cell_type": "markdown",
      "metadata": {
        "id": "CZDjmllG41aa"
      },
      "source": [
        "## image to column"
      ]
    },
    {
      "cell_type": "code",
      "metadata": {
        "id": "GFbg8ow141ab"
      },
      "source": [
        "import pickle\n",
        "import numpy as np\n",
        "from collections import OrderedDict\n",
        "from common import layers\n",
        "from common import optimizer\n",
        "from data.mnist import load_mnist\n",
        "import matplotlib.pyplot as plt\n",
        "\n",
        "# 画像データを２次元配列に変換\n",
        "'''\n",
        "input_data: 入力値\n",
        "filter_h: フィルターの高さ\n",
        "filter_w: フィルターの横幅\n",
        "stride: ストライド\n",
        "pad: パディング\n",
        "'''\n",
        "def im2col(input_data, filter_h, filter_w, stride=1, pad=0):\n",
        "    # N: number, C: channel, H: height, W: width\n",
        "    N, C, H, W = input_data.shape\n",
        "    out_h = (H + 2 * pad - filter_h)//stride + 1\n",
        "    out_w = (W + 2 * pad - filter_w)//stride + 1\n",
        "\n",
        "    img = np.pad(input_data, [(0,0), (0,0), (pad, pad), (pad, pad)], 'constant')\n",
        "    col = np.zeros((N, C, filter_h, filter_w, out_h, out_w))\n",
        "\n",
        "    for y in range(filter_h):\n",
        "        y_max = y + stride * out_h\n",
        "        for x in range(filter_w):\n",
        "            x_max = x + stride * out_w\n",
        "            col[:, :, y, x, :, :] = img[:, :, y:y_max:stride, x:x_max:stride]\n",
        "    \n",
        "    col = col.transpose(0, 4, 5, 1, 2, 3) # (N, C, filter_h, filter_w, out_h, out_w) -> (N, filter_w, out_h, out_w, C, filter_h)    \n",
        "    \n",
        "    col = col.reshape(N * out_h * out_w, -1)\n",
        "    return col"
      ],
      "execution_count": 10,
      "outputs": []
    },
    {
      "cell_type": "markdown",
      "metadata": {
        "id": "aahFoRM941ae"
      },
      "source": [
        "----------------------------------------------------------------------------------------------------------------------------------------------------------------------------\n",
        "## [try] im2colの処理を確認しよう\n",
        "・関数内でtransposeの処理をしている行をコメントアウトして下のコードを実行してみよう<br>\n",
        "・input_dataの各次元のサイズやフィルターサイズ・ストライド・パディングを変えてみよう\n",
        "\n",
        "----------------------------------------------------------------------------------------------------------------------------------------------------------------------------"
      ]
    },
    {
      "cell_type": "code",
      "metadata": {
        "id": "Vd5NPF_641af",
        "colab": {
          "base_uri": "https://localhost:8080/"
        },
        "outputId": "6e129208-25db-4522-923f-a030f617eca2"
      },
      "source": [
        "# im2colの処理確認\n",
        "input_data = np.random.rand(2, 1, 4, 4)*100//1 # number, channel, height, widthを表す\n",
        "print('========== input_data ===========\\n', input_data)\n",
        "print('==============================')\n",
        "filter_h = 3\n",
        "filter_w = 3\n",
        "stride = 1\n",
        "pad = 0\n",
        "col = im2col(input_data, filter_h=filter_h, filter_w=filter_w, stride=stride, pad=pad)\n",
        "print('============= col ==============\\n', col)\n",
        "print('==============================')"
      ],
      "execution_count": 15,
      "outputs": [
        {
          "output_type": "stream",
          "text": [
            "========== input_data ===========\n",
            " [[[[58. 89. 15. 83.]\n",
            "   [69. 34. 12. 99.]\n",
            "   [75. 61.  2. 29.]\n",
            "   [77. 15. 66. 66.]]]\n",
            "\n",
            "\n",
            " [[[49. 31. 82.  5.]\n",
            "   [68. 55. 91. 71.]\n",
            "   [94.  2. 33. 42.]\n",
            "   [18. 81. 59. 14.]]]]\n",
            "==============================\n",
            "============= col ==============\n",
            " [[58. 89. 69. 34. 89. 15. 34. 12. 15.]\n",
            " [83. 12. 99. 69. 34. 75. 61. 34. 12.]\n",
            " [61.  2. 12. 99.  2. 29. 75. 61. 77.]\n",
            " [15. 61.  2. 15. 66.  2. 29. 66. 66.]\n",
            " [49. 31. 68. 55. 31. 82. 55. 91. 82.]\n",
            " [ 5. 91. 71. 68. 55. 94.  2. 55. 91.]\n",
            " [ 2. 33. 91. 71. 33. 42. 94.  2. 18.]\n",
            " [81.  2. 33. 81. 59. 33. 42. 59. 14.]]\n",
            "==============================\n"
          ],
          "name": "stdout"
        }
      ]
    },
    {
      "cell_type": "code",
      "metadata": {
        "colab": {
          "base_uri": "https://localhost:8080/"
        },
        "id": "DwlVRn6Zersg",
        "outputId": "50fa3832-2e94-4f59-a26b-68962d528967"
      },
      "source": [
        "# im2colの処理確認\n",
        "# transposeをコメントアウト\n",
        "input_data = np.random.rand(2, 1, 4, 4)*100//1 # number, channel, height, widthを表す\n",
        "print('========== input_data ===========\\n', input_data)\n",
        "print('==============================')\n",
        "filter_h = 3\n",
        "filter_w = 3\n",
        "stride = 1\n",
        "pad = 0\n",
        "col = im2col(input_data, filter_h=filter_h, filter_w=filter_w, stride=stride, pad=pad)\n",
        "print('============= col ==============\\n', col)\n",
        "print('==============================')"
      ],
      "execution_count": 11,
      "outputs": [
        {
          "output_type": "stream",
          "text": [
            "========== input_data ===========\n",
            " [[[[98. 80. 65. 59.]\n",
            "   [36. 39. 75. 83.]\n",
            "   [17. 22.  0. 65.]\n",
            "   [27.  8. 73. 88.]]]\n",
            "\n",
            "\n",
            " [[[51. 28. 61. 94.]\n",
            "   [45. 63. 14. 75.]\n",
            "   [54. 25. 91. 53.]\n",
            "   [79. 38. 95. 91.]]]]\n",
            "==============================\n",
            "============= col ==============\n",
            " [[98. 80. 36. 39. 80. 65. 39. 75. 65.]\n",
            " [59. 75. 83. 36. 39. 17. 22. 39. 75.]\n",
            " [22.  0. 75. 83.  0. 65. 17. 22. 27.]\n",
            " [ 8. 22.  0.  8. 73.  0. 65. 73. 88.]\n",
            " [51. 28. 45. 63. 28. 61. 63. 14. 61.]\n",
            " [94. 14. 75. 45. 63. 54. 25. 63. 14.]\n",
            " [25. 91. 14. 75. 91. 53. 54. 25. 79.]\n",
            " [38. 25. 91. 38. 95. 91. 53. 95. 91.]]\n",
            "==============================\n"
          ],
          "name": "stdout"
        }
      ]
    },
    {
      "cell_type": "code",
      "metadata": {
        "colab": {
          "base_uri": "https://localhost:8080/"
        },
        "id": "hPfNaF6MgVV5",
        "outputId": "38824254-dde4-4047-c599-353e5e518c7f"
      },
      "source": [
        "# im2colの処理確認\n",
        "# 入力11x11、フィルター5x5、パディング2、ストライド2\n",
        "input_data = np.random.rand(2, 1, 11, 11)*100//1 # number, channel, height, widthを表す\n",
        "print('========== input_data ===========\\n', input_data)\n",
        "print('==============================')\n",
        "filter_h = 5\n",
        "filter_w = 5\n",
        "stride = 2\n",
        "pad = 2\n",
        "col = im2col(input_data, filter_h=filter_h, filter_w=filter_w, stride=stride, pad=pad)\n",
        "print('============= col ==============\\n', col)\n",
        "print('==============================')"
      ],
      "execution_count": 18,
      "outputs": [
        {
          "output_type": "stream",
          "text": [
            "========== input_data ===========\n",
            " [[[[85.  8.  6. 99. 82. 29. 58. 49.  9. 62. 69.]\n",
            "   [ 3. 33. 63.  5. 79. 29. 38. 36. 57. 67. 81.]\n",
            "   [61. 42. 34. 89. 83. 57. 63. 66. 84. 87. 37.]\n",
            "   [36. 86. 53. 20. 58. 97. 60. 63. 91. 39. 51.]\n",
            "   [12. 15. 60. 22. 12. 29. 96. 48. 60. 12. 70.]\n",
            "   [94. 98. 15. 29. 55.  8. 21. 17. 47. 81. 41.]\n",
            "   [94. 19. 62. 38. 75. 88. 81. 11.  5. 15. 67.]\n",
            "   [96. 61.  3. 52. 29. 83. 85. 39. 90.  6. 94.]\n",
            "   [97. 49. 57. 80. 24. 81. 37. 62. 25.  6. 15.]\n",
            "   [ 9. 96.  4. 84. 87. 45. 59. 64. 11. 81. 64.]\n",
            "   [20. 93. 51. 83. 83. 62. 25. 67. 95. 33. 40.]]]\n",
            "\n",
            "\n",
            " [[[54. 93. 47.  6. 30. 65. 21.  3. 41. 11. 83.]\n",
            "   [ 4. 75. 66. 48. 80. 41. 56. 47.  5. 40. 31.]\n",
            "   [55. 94. 61. 47. 71. 82. 56. 25. 81.  5.  8.]\n",
            "   [96.  0. 72. 47. 12. 23. 84. 49. 83. 23.  8.]\n",
            "   [27. 53. 87. 87. 41. 37. 22. 62. 80. 28. 61.]\n",
            "   [62. 81. 30. 60. 38. 97.  6. 25. 46. 98. 99.]\n",
            "   [58.  7. 91. 73. 69. 31. 37. 36. 57. 64.  6.]\n",
            "   [52. 18. 73. 82. 69. 59.  4. 49. 69. 30. 41.]\n",
            "   [75. 14. 56.  3. 76. 86.  1. 56. 46. 87. 48.]\n",
            "   [44.  7. 18. 90. 66. 32. 41. 27. 64. 70. 85.]\n",
            "   [78. 42.  4. 78. 85. 25. 84. 35. 46. 15. 89.]]]]\n",
            "==============================\n",
            "============= col ==============\n",
            " [[ 0.  0.  0. ... 96. 60.  0.]\n",
            " [94. 62. 75. ... 62.  0. 42.]\n",
            " [89. 57. 66. ...  0.  0.  0.]\n",
            " ...\n",
            " [ 0.  0.  0. ...  3. 86. 56.]\n",
            " [87.  0. 42. ... 22. 80. 61.]\n",
            " [ 0. 91. 69. ...  0.  0.  0.]]\n",
            "==============================\n"
          ],
          "name": "stdout"
        }
      ]
    },
    {
      "cell_type": "code",
      "metadata": {
        "colab": {
          "base_uri": "https://localhost:8080/"
        },
        "id": "hoFv1pw-h8uV",
        "outputId": "e8103733-4ba2-462b-d297-6490feb96a68"
      },
      "source": [
        "col.shape"
      ],
      "execution_count": 19,
      "outputs": [
        {
          "output_type": "execute_result",
          "data": {
            "text/plain": [
              "(72, 25)"
            ]
          },
          "metadata": {
            "tags": []
          },
          "execution_count": 19
        }
      ]
    },
    {
      "cell_type": "markdown",
      "metadata": {
        "id": "azeUAMll41ai"
      },
      "source": [
        "## column to image"
      ]
    },
    {
      "cell_type": "code",
      "metadata": {
        "id": "sEg1ZgGH41aj"
      },
      "source": [
        "# ２次元配列を画像データに変換\n",
        "def col2im(col, input_shape, filter_h, filter_w, stride=1, pad=0):\n",
        "    # N: number, C: channel, H: height, W: width\n",
        "    N, C, H, W = input_shape\n",
        "    # 切り捨て除算    \n",
        "    out_h = (H + 2 * pad - filter_h)//stride + 1\n",
        "    out_w = (W + 2 * pad - filter_w)//stride + 1\n",
        "    col = col.reshape(N, out_h, out_w, C, filter_h, filter_w).transpose(0, 3, 4, 5, 1, 2) # (N, filter_h, filter_w, out_h, out_w, C)\n",
        "\n",
        "    img = np.zeros((N, C, H + 2 * pad + stride - 1, W + 2 * pad + stride - 1))\n",
        "    for y in range(filter_h):\n",
        "        y_max = y + stride * out_h\n",
        "        for x in range(filter_w):\n",
        "            x_max = x + stride * out_w\n",
        "            img[:, :, y:y_max:stride, x:x_max:stride] += col[:, :, y, x, :, :]\n",
        "\n",
        "    return img[:, :, pad:H + pad, pad:W + pad]"
      ],
      "execution_count": 5,
      "outputs": []
    },
    {
      "cell_type": "markdown",
      "metadata": {
        "id": "WxIB8_ij41al"
      },
      "source": [
        "## col2imの処理を確認しよう\n",
        "・im2colの確認で出力したcolをimageに変換して確認しよう"
      ]
    },
    {
      "cell_type": "code",
      "metadata": {
        "id": "oWlAPpX_41am",
        "colab": {
          "base_uri": "https://localhost:8080/"
        },
        "outputId": "ee53873e-c93c-4852-8ecf-7d63b3f2e10e"
      },
      "source": [
        "col2im(col, (2,1,11,11), 5, 5, 2, 2)"
      ],
      "execution_count": 21,
      "outputs": [
        {
          "output_type": "execute_result",
          "data": {
            "text/plain": [
              "array([[[[107., 107., 143.,  89., 122., 254., 205., 165., 175., 111.,\n",
              "           11.],\n",
              "         [167.,  63., 207.,  11., 209., 322., 345., 164., 280., 221.,\n",
              "           78.],\n",
              "         [282., 184., 347., 168., 399., 306., 363., 281., 435., 200.,\n",
              "          369.],\n",
              "         [130., 206., 228., 152., 207., 200., 243., 212., 253., 124.,\n",
              "          151.],\n",
              "         [350., 303., 422., 299., 332., 239., 365., 313., 260., 165.,\n",
              "          200.],\n",
              "         [123., 142., 256., 161., 140., 148., 223., 142., 330., 141.,\n",
              "          195.],\n",
              "         [247., 211., 332., 341., 453., 202., 330., 217., 438., 275.,\n",
              "          294.],\n",
              "         [151.,  11., 197., 322., 246., 138., 222., 177., 313., 131.,\n",
              "          115.],\n",
              "         [270., 158., 386., 367., 414., 200., 414., 187., 440., 278.,\n",
              "          225.],\n",
              "         [134., 282., 255., 198., 310., 212., 320., 124., 190.,  24.,\n",
              "           94.],\n",
              "         [124.,  66., 219.,  90., 147., 165., 173.,  94., 126., 149.,\n",
              "          180.]]],\n",
              "\n",
              "\n",
              "       [[[143.,  97., 220.,  93., 181., 195., 159., 151., 143., 116.,\n",
              "          166.],\n",
              "         [152.,  56., 224., 166., 163., 117., 251., 110., 238., 112.,\n",
              "          197.],\n",
              "         [197., 173., 120., 266., 416., 206., 504., 208., 408., 214.,\n",
              "          275.],\n",
              "         [182., 273., 280., 142., 258., 172., 273., 153., 173.,  98.,\n",
              "          115.],\n",
              "         [152., 357., 317., 178., 369., 167., 432., 297., 323., 178.,\n",
              "          281.],\n",
              "         [117., 170., 229., 121., 131., 268., 168., 164., 283., 132.,\n",
              "          197.],\n",
              "         [314., 180., 349., 349., 458., 262., 406., 178., 336., 314.,\n",
              "          132.],\n",
              "         [205., 166., 136., 117., 245.,  49., 259., 139., 270., 236.,\n",
              "          155.],\n",
              "         [126., 200., 461., 246., 559., 211., 422., 261., 273., 288.,\n",
              "          210.],\n",
              "         [189., 270., 323., 112., 308., 153., 179.,  98., 123.,  76.,\n",
              "           57.],\n",
              "         [ 98.,  61., 254., 131., 218., 158., 178.,  89., 231., 123.,\n",
              "          202.]]]])"
            ]
          },
          "metadata": {
            "tags": []
          },
          "execution_count": 21
        }
      ]
    },
    {
      "cell_type": "markdown",
      "metadata": {
        "id": "c6A1wrTW41ao"
      },
      "source": [
        "## convolution class"
      ]
    },
    {
      "cell_type": "code",
      "metadata": {
        "id": "V48pgjoe41ap"
      },
      "source": [
        "class Convolution:\n",
        "    # W: フィルター, b: バイアス\n",
        "    def __init__(self, W, b, stride=1, pad=0):\n",
        "        self.W = W\n",
        "        self.b = b\n",
        "        self.stride = stride\n",
        "        self.pad = pad\n",
        "        \n",
        "        # 中間データ（backward時に使用）\n",
        "        self.x = None   \n",
        "        self.col = None\n",
        "        self.col_W = None\n",
        "        \n",
        "        # フィルター・バイアスパラメータの勾配\n",
        "        self.dW = None\n",
        "        self.db = None\n",
        "\n",
        "    def forward(self, x):\n",
        "        # FN: filter_number, C: channel, FH: filter_height, FW: filter_width\n",
        "        FN, C, FH, FW = self.W.shape\n",
        "        N, C, H, W = x.shape\n",
        "        # 出力値のheight, width\n",
        "        out_h = 1 + int((H + 2 * self.pad - FH) / self.stride)\n",
        "        out_w = 1 + int((W + 2 * self.pad - FW) / self.stride)\n",
        "        \n",
        "        # xを行列に変換\n",
        "        col = im2col(x, FH, FW, self.stride, self.pad)\n",
        "        # フィルターをxに合わせた行列に変換\n",
        "        col_W = self.W.reshape(FN, -1).T\n",
        "\n",
        "        out = np.dot(col, col_W) + self.b\n",
        "        # 計算のために変えた形式を戻す\n",
        "        out = out.reshape(N, out_h, out_w, -1).transpose(0, 3, 1, 2)\n",
        "\n",
        "        self.x = x\n",
        "        self.col = col\n",
        "        self.col_W = col_W\n",
        "\n",
        "        return out\n",
        "\n",
        "    def backward(self, dout):\n",
        "        FN, C, FH, FW = self.W.shape\n",
        "        dout = dout.transpose(0, 2, 3, 1).reshape(-1, FN)\n",
        "\n",
        "        self.db = np.sum(dout, axis=0)\n",
        "        self.dW = np.dot(self.col.T, dout)\n",
        "        self.dW = self.dW.transpose(1, 0).reshape(FN, C, FH, FW)\n",
        "\n",
        "        dcol = np.dot(dout, self.col_W.T)\n",
        "        # dcolを画像データに変換\n",
        "        dx = col2im(dcol, self.x.shape, FH, FW, self.stride, self.pad)\n",
        "\n",
        "        return dx\n"
      ],
      "execution_count": 6,
      "outputs": []
    },
    {
      "cell_type": "markdown",
      "metadata": {
        "id": "ajeATc1r41ar"
      },
      "source": [
        "## pooling class"
      ]
    },
    {
      "cell_type": "code",
      "metadata": {
        "id": "ohjf8L6d41as"
      },
      "source": [
        "class Pooling:\n",
        "    def __init__(self, pool_h, pool_w, stride=1, pad=0):\n",
        "        self.pool_h = pool_h\n",
        "        self.pool_w = pool_w\n",
        "        self.stride = stride\n",
        "        self.pad = pad\n",
        "        \n",
        "        self.x = None\n",
        "        self.arg_max = None\n",
        "\n",
        "    def forward(self, x):\n",
        "        N, C, H, W = x.shape\n",
        "        out_h = int(1 + (H - self.pool_h) / self.stride)\n",
        "        out_w = int(1 + (W - self.pool_w) / self.stride)\n",
        "        \n",
        "        # xを行列に変換\n",
        "        col = im2col(x, self.pool_h, self.pool_w, self.stride, self.pad)\n",
        "        # プーリングのサイズに合わせてリサイズ\n",
        "        col = col.reshape(-1, self.pool_h*self.pool_w)\n",
        "        \n",
        "        # 行ごとに最大値を求める\n",
        "        arg_max = np.argmax(col, axis=1)\n",
        "        out = np.max(col, axis=1)\n",
        "        # 整形\n",
        "        out = out.reshape(N, out_h, out_w, C).transpose(0, 3, 1, 2)\n",
        "\n",
        "        self.x = x\n",
        "        self.arg_max = arg_max\n",
        "\n",
        "        return out\n",
        "\n",
        "    def backward(self, dout):\n",
        "        dout = dout.transpose(0, 2, 3, 1)\n",
        "        \n",
        "        pool_size = self.pool_h * self.pool_w\n",
        "        dmax = np.zeros((dout.size, pool_size))\n",
        "        dmax[np.arange(self.arg_max.size), self.arg_max.flatten()] = dout.flatten()\n",
        "        dmax = dmax.reshape(dout.shape + (pool_size,)) \n",
        "        \n",
        "        dcol = dmax.reshape(dmax.shape[0] * dmax.shape[1] * dmax.shape[2], -1)\n",
        "        dx = col2im(dcol, self.x.shape, self.pool_h, self.pool_w, self.stride, self.pad)\n",
        "        \n",
        "        return dx\n"
      ],
      "execution_count": 7,
      "outputs": []
    },
    {
      "cell_type": "markdown",
      "metadata": {
        "id": "R_4EiODW41av"
      },
      "source": [
        "## sinple convolution network class"
      ]
    },
    {
      "cell_type": "code",
      "metadata": {
        "id": "Bjvis0sV41aw"
      },
      "source": [
        "class SimpleConvNet:\n",
        "    # conv - relu - pool - affine - relu - affine - softmax\n",
        "    def __init__(self, input_dim=(1, 28, 28), conv_param={'filter_num':30, 'filter_size':5, 'pad':0, 'stride':1},\n",
        "                 hidden_size=100, output_size=10, weight_init_std=0.01):\n",
        "        filter_num = conv_param['filter_num']        \n",
        "        filter_size = conv_param['filter_size']\n",
        "        filter_pad = conv_param['pad']\n",
        "        filter_stride = conv_param['stride']\n",
        "        input_size = input_dim[1]\n",
        "        conv_output_size = (input_size - filter_size + 2 * filter_pad) / filter_stride + 1\n",
        "        pool_output_size = int(filter_num * (conv_output_size / 2) * (conv_output_size / 2))\n",
        "\n",
        "        # 重みの初期化\n",
        "        self.params = {}\n",
        "        self.params['W1'] = weight_init_std * np.random.randn(filter_num, input_dim[0], filter_size, filter_size)\n",
        "        self.params['b1'] = np.zeros(filter_num)\n",
        "        self.params['W2'] = weight_init_std * np.random.randn(pool_output_size, hidden_size)\n",
        "        self.params['b2'] = np.zeros(hidden_size)\n",
        "        self.params['W3'] = weight_init_std * np.random.randn(hidden_size, output_size)\n",
        "        self.params['b3'] = np.zeros(output_size)\n",
        "\n",
        "        # レイヤの生成\n",
        "        self.layers = OrderedDict()\n",
        "        self.layers['Conv1'] = layers.Convolution(self.params['W1'], self.params['b1'], conv_param['stride'], conv_param['pad'])\n",
        "        self.layers['Relu1'] = layers.Relu()\n",
        "        self.layers['Pool1'] = layers.Pooling(pool_h=2, pool_w=2, stride=2)\n",
        "        self.layers['Affine1'] = layers.Affine(self.params['W2'], self.params['b2'])\n",
        "        self.layers['Relu2'] = layers.Relu()\n",
        "        self.layers['Affine2'] = layers.Affine(self.params['W3'], self.params['b3'])\n",
        "\n",
        "        self.last_layer = layers.SoftmaxWithLoss()\n",
        "\n",
        "    def predict(self, x):\n",
        "        for key in self.layers.keys():\n",
        "            x = self.layers[key].forward(x)\n",
        "        return x\n",
        "        \n",
        "    def loss(self, x, d):\n",
        "        y = self.predict(x)\n",
        "        return self.last_layer.forward(y, d)\n",
        "\n",
        "    def accuracy(self, x, d, batch_size=100):\n",
        "        if d.ndim != 1 : d = np.argmax(d, axis=1)\n",
        "        \n",
        "        acc = 0.0\n",
        "        \n",
        "        for i in range(int(x.shape[0] / batch_size)):\n",
        "            tx = x[i*batch_size:(i+1)*batch_size]\n",
        "            td = d[i*batch_size:(i+1)*batch_size]\n",
        "            y = self.predict(tx)\n",
        "            y = np.argmax(y, axis=1)\n",
        "            acc += np.sum(y == td) \n",
        "        \n",
        "        return acc / x.shape[0]\n",
        "\n",
        "    def gradient(self, x, d):\n",
        "        # forward\n",
        "        self.loss(x, d)\n",
        "        \n",
        "        # backward\n",
        "        dout = 1\n",
        "        dout = self.last_layer.backward(dout)\n",
        "        layers = list(self.layers.values())\n",
        "        \n",
        "        layers.reverse()\n",
        "        for layer in layers:\n",
        "            dout = layer.backward(dout)\n",
        "\n",
        "        # 設定\n",
        "        grad = {}\n",
        "        grad['W1'], grad['b1'] = self.layers['Conv1'].dW, self.layers['Conv1'].db\n",
        "        grad['W2'], grad['b2'] = self.layers['Affine1'].dW, self.layers['Affine1'].db\n",
        "        grad['W3'], grad['b3'] = self.layers['Affine2'].dW, self.layers['Affine2'].db\n",
        "\n",
        "        return grad"
      ],
      "execution_count": 8,
      "outputs": []
    },
    {
      "cell_type": "code",
      "metadata": {
        "id": "UontjUaA41ay",
        "colab": {
          "base_uri": "https://localhost:8080/",
          "height": 1000
        },
        "outputId": "889a0c41-a566-4deb-bd9e-72c230875291"
      },
      "source": [
        "from common import optimizer\n",
        "\n",
        "# データの読み込み\n",
        "(x_train, d_train), (x_test, d_test) = load_mnist(flatten=False)\n",
        "\n",
        "print(\"データ読み込み完了\")\n",
        "\n",
        "# 処理に時間のかかる場合はデータを削減 \n",
        "x_train, d_train = x_train[:5000], d_train[:5000]\n",
        "x_test, d_test = x_test[:1000], d_test[:1000]\n",
        "\n",
        "\n",
        "network = SimpleConvNet(input_dim=(1,28,28), conv_param = {'filter_num': 30, 'filter_size': 5, 'pad': 0, 'stride': 1},\n",
        "                        hidden_size=100, output_size=10, weight_init_std=0.01)\n",
        "\n",
        "optimizer = optimizer.Adam()\n",
        "\n",
        "iters_num = 1000\n",
        "train_size = x_train.shape[0]\n",
        "batch_size = 100\n",
        "\n",
        "train_loss_list = []\n",
        "accuracies_train = []\n",
        "accuracies_test = []\n",
        "\n",
        "plot_interval=10\n",
        "\n",
        "\n",
        "\n",
        "for i in range(iters_num):\n",
        "    batch_mask = np.random.choice(train_size, batch_size)\n",
        "    x_batch = x_train[batch_mask]\n",
        "    d_batch = d_train[batch_mask]\n",
        "    \n",
        "    grad = network.gradient(x_batch, d_batch)\n",
        "    optimizer.update(network.params, grad)\n",
        "\n",
        "    loss = network.loss(x_batch, d_batch)\n",
        "    train_loss_list.append(loss)\n",
        "\n",
        "    if (i+1) % plot_interval == 0:\n",
        "        accr_train = network.accuracy(x_train, d_train)\n",
        "        accr_test = network.accuracy(x_test, d_test)\n",
        "        accuracies_train.append(accr_train)\n",
        "        accuracies_test.append(accr_test)\n",
        "        \n",
        "        print('Generation: ' + str(i+1) + '. 正答率(トレーニング) = ' + str(accr_train))\n",
        "        print('                : ' + str(i+1) + '. 正答率(テスト) = ' + str(accr_test))               \n",
        "\n",
        "lists = range(0, iters_num, plot_interval)\n",
        "plt.plot(lists, accuracies_train, label=\"training set\")\n",
        "plt.plot(lists, accuracies_test,  label=\"test set\")\n",
        "plt.legend(loc=\"lower right\")\n",
        "plt.title(\"accuracy\")\n",
        "plt.xlabel(\"count\")\n",
        "plt.ylabel(\"accuracy\")\n",
        "plt.ylim(0, 1.0)\n",
        "# グラフの表示\n",
        "plt.show()"
      ],
      "execution_count": 9,
      "outputs": [
        {
          "output_type": "stream",
          "text": [
            "データ読み込み完了\n",
            "Generation: 10. 正答率(トレーニング) = 0.3312\n",
            "                : 10. 正答率(テスト) = 0.312\n",
            "Generation: 20. 正答率(トレーニング) = 0.664\n",
            "                : 20. 正答率(テスト) = 0.66\n",
            "Generation: 30. 正答率(トレーニング) = 0.7246\n",
            "                : 30. 正答率(テスト) = 0.702\n",
            "Generation: 40. 正答率(トレーニング) = 0.7934\n",
            "                : 40. 正答率(テスト) = 0.756\n",
            "Generation: 50. 正答率(トレーニング) = 0.8048\n",
            "                : 50. 正答率(テスト) = 0.777\n",
            "Generation: 60. 正答率(トレーニング) = 0.8632\n",
            "                : 60. 正答率(テスト) = 0.827\n",
            "Generation: 70. 正答率(トレーニング) = 0.8592\n",
            "                : 70. 正答率(テスト) = 0.816\n",
            "Generation: 80. 正答率(トレーニング) = 0.8862\n",
            "                : 80. 正答率(テスト) = 0.847\n",
            "Generation: 90. 正答率(トレーニング) = 0.893\n",
            "                : 90. 正答率(テスト) = 0.855\n",
            "Generation: 100. 正答率(トレーニング) = 0.8846\n",
            "                : 100. 正答率(テスト) = 0.858\n",
            "Generation: 110. 正答率(トレーニング) = 0.8962\n",
            "                : 110. 正答率(テスト) = 0.869\n",
            "Generation: 120. 正答率(トレーニング) = 0.901\n",
            "                : 120. 正答率(テスト) = 0.882\n",
            "Generation: 130. 正答率(トレーニング) = 0.9076\n",
            "                : 130. 正答率(テスト) = 0.867\n",
            "Generation: 140. 正答率(トレーニング) = 0.91\n",
            "                : 140. 正答率(テスト) = 0.888\n",
            "Generation: 150. 正答率(トレーニング) = 0.92\n",
            "                : 150. 正答率(テスト) = 0.891\n",
            "Generation: 160. 正答率(トレーニング) = 0.921\n",
            "                : 160. 正答率(テスト) = 0.896\n",
            "Generation: 170. 正答率(トレーニング) = 0.927\n",
            "                : 170. 正答率(テスト) = 0.9\n",
            "Generation: 180. 正答率(トレーニング) = 0.9252\n",
            "                : 180. 正答率(テスト) = 0.9\n",
            "Generation: 190. 正答率(トレーニング) = 0.9254\n",
            "                : 190. 正答率(テスト) = 0.893\n",
            "Generation: 200. 正答率(トレーニング) = 0.9334\n",
            "                : 200. 正答率(テスト) = 0.908\n",
            "Generation: 210. 正答率(トレーニング) = 0.9382\n",
            "                : 210. 正答率(テスト) = 0.901\n",
            "Generation: 220. 正答率(トレーニング) = 0.9302\n",
            "                : 220. 正答率(テスト) = 0.902\n",
            "Generation: 230. 正答率(トレーニング) = 0.9388\n",
            "                : 230. 正答率(テスト) = 0.916\n",
            "Generation: 240. 正答率(トレーニング) = 0.9386\n",
            "                : 240. 正答率(テスト) = 0.902\n",
            "Generation: 250. 正答率(トレーニング) = 0.945\n",
            "                : 250. 正答率(テスト) = 0.911\n",
            "Generation: 260. 正答率(トレーニング) = 0.9458\n",
            "                : 260. 正答率(テスト) = 0.918\n",
            "Generation: 270. 正答率(トレーニング) = 0.9486\n",
            "                : 270. 正答率(テスト) = 0.916\n",
            "Generation: 280. 正答率(トレーニング) = 0.9432\n",
            "                : 280. 正答率(テスト) = 0.912\n",
            "Generation: 290. 正答率(トレーニング) = 0.942\n",
            "                : 290. 正答率(テスト) = 0.914\n",
            "Generation: 300. 正答率(トレーニング) = 0.943\n",
            "                : 300. 正答率(テスト) = 0.902\n",
            "Generation: 310. 正答率(トレーニング) = 0.9462\n",
            "                : 310. 正答率(テスト) = 0.917\n",
            "Generation: 320. 正答率(トレーニング) = 0.9538\n",
            "                : 320. 正答率(テスト) = 0.92\n",
            "Generation: 330. 正答率(トレーニング) = 0.9532\n",
            "                : 330. 正答率(テスト) = 0.92\n",
            "Generation: 340. 正答率(トレーニング) = 0.9508\n",
            "                : 340. 正答率(テスト) = 0.92\n",
            "Generation: 350. 正答率(トレーニング) = 0.9526\n",
            "                : 350. 正答率(テスト) = 0.921\n",
            "Generation: 360. 正答率(トレーニング) = 0.958\n",
            "                : 360. 正答率(テスト) = 0.927\n",
            "Generation: 370. 正答率(トレーニング) = 0.9586\n",
            "                : 370. 正答率(テスト) = 0.933\n",
            "Generation: 380. 正答率(トレーニング) = 0.9534\n",
            "                : 380. 正答率(テスト) = 0.926\n",
            "Generation: 390. 正答率(トレーニング) = 0.9604\n",
            "                : 390. 正答率(テスト) = 0.937\n",
            "Generation: 400. 正答率(トレーニング) = 0.9646\n",
            "                : 400. 正答率(テスト) = 0.938\n",
            "Generation: 410. 正答率(トレーニング) = 0.97\n",
            "                : 410. 正答率(テスト) = 0.943\n",
            "Generation: 420. 正答率(トレーニング) = 0.9712\n",
            "                : 420. 正答率(テスト) = 0.943\n",
            "Generation: 430. 正答率(トレーニング) = 0.9714\n",
            "                : 430. 正答率(テスト) = 0.948\n",
            "Generation: 440. 正答率(トレーニング) = 0.9746\n",
            "                : 440. 正答率(テスト) = 0.953\n",
            "Generation: 450. 正答率(トレーニング) = 0.971\n",
            "                : 450. 正答率(テスト) = 0.946\n",
            "Generation: 460. 正答率(トレーニング) = 0.9752\n",
            "                : 460. 正答率(テスト) = 0.941\n",
            "Generation: 470. 正答率(トレーニング) = 0.976\n",
            "                : 470. 正答率(テスト) = 0.947\n",
            "Generation: 480. 正答率(トレーニング) = 0.975\n",
            "                : 480. 正答率(テスト) = 0.946\n",
            "Generation: 490. 正答率(トレーニング) = 0.9752\n",
            "                : 490. 正答率(テスト) = 0.943\n",
            "Generation: 500. 正答率(トレーニング) = 0.9766\n",
            "                : 500. 正答率(テスト) = 0.948\n",
            "Generation: 510. 正答率(トレーニング) = 0.9772\n",
            "                : 510. 正答率(テスト) = 0.942\n",
            "Generation: 520. 正答率(トレーニング) = 0.9786\n",
            "                : 520. 正答率(テスト) = 0.942\n",
            "Generation: 530. 正答率(トレーニング) = 0.9764\n",
            "                : 530. 正答率(テスト) = 0.945\n",
            "Generation: 540. 正答率(トレーニング) = 0.98\n",
            "                : 540. 正答率(テスト) = 0.953\n",
            "Generation: 550. 正答率(トレーニング) = 0.9822\n",
            "                : 550. 正答率(テスト) = 0.955\n",
            "Generation: 560. 正答率(トレーニング) = 0.9784\n",
            "                : 560. 正答率(テスト) = 0.95\n",
            "Generation: 570. 正答率(トレーニング) = 0.9832\n",
            "                : 570. 正答率(テスト) = 0.948\n",
            "Generation: 580. 正答率(トレーニング) = 0.9832\n",
            "                : 580. 正答率(テスト) = 0.95\n",
            "Generation: 590. 正答率(トレーニング) = 0.9778\n",
            "                : 590. 正答率(テスト) = 0.95\n",
            "Generation: 600. 正答率(トレーニング) = 0.982\n",
            "                : 600. 正答率(テスト) = 0.956\n",
            "Generation: 610. 正答率(トレーニング) = 0.9836\n",
            "                : 610. 正答率(テスト) = 0.949\n",
            "Generation: 620. 正答率(トレーニング) = 0.9822\n",
            "                : 620. 正答率(テスト) = 0.947\n",
            "Generation: 630. 正答率(トレーニング) = 0.982\n",
            "                : 630. 正答率(テスト) = 0.951\n",
            "Generation: 640. 正答率(トレーニング) = 0.9862\n",
            "                : 640. 正答率(テスト) = 0.954\n",
            "Generation: 650. 正答率(トレーニング) = 0.986\n",
            "                : 650. 正答率(テスト) = 0.955\n",
            "Generation: 660. 正答率(トレーニング) = 0.9848\n",
            "                : 660. 正答率(テスト) = 0.954\n",
            "Generation: 670. 正答率(トレーニング) = 0.9858\n",
            "                : 670. 正答率(テスト) = 0.953\n",
            "Generation: 680. 正答率(トレーニング) = 0.9846\n",
            "                : 680. 正答率(テスト) = 0.951\n",
            "Generation: 690. 正答率(トレーニング) = 0.9854\n",
            "                : 690. 正答率(テスト) = 0.955\n",
            "Generation: 700. 正答率(トレーニング) = 0.9866\n",
            "                : 700. 正答率(テスト) = 0.959\n",
            "Generation: 710. 正答率(トレーニング) = 0.9878\n",
            "                : 710. 正答率(テスト) = 0.959\n",
            "Generation: 720. 正答率(トレーニング) = 0.9892\n",
            "                : 720. 正答率(テスト) = 0.961\n",
            "Generation: 730. 正答率(トレーニング) = 0.9844\n",
            "                : 730. 正答率(テスト) = 0.948\n",
            "Generation: 740. 正答率(トレーニング) = 0.9838\n",
            "                : 740. 正答率(テスト) = 0.952\n",
            "Generation: 750. 正答率(トレーニング) = 0.988\n",
            "                : 750. 正答率(テスト) = 0.956\n",
            "Generation: 760. 正答率(トレーニング) = 0.9886\n",
            "                : 760. 正答率(テスト) = 0.959\n",
            "Generation: 770. 正答率(トレーニング) = 0.989\n",
            "                : 770. 正答率(テスト) = 0.958\n",
            "Generation: 780. 正答率(トレーニング) = 0.9896\n",
            "                : 780. 正答率(テスト) = 0.961\n",
            "Generation: 790. 正答率(トレーニング) = 0.9908\n",
            "                : 790. 正答率(テスト) = 0.958\n",
            "Generation: 800. 正答率(トレーニング) = 0.9914\n",
            "                : 800. 正答率(テスト) = 0.963\n",
            "Generation: 810. 正答率(トレーニング) = 0.9902\n",
            "                : 810. 正答率(テスト) = 0.954\n",
            "Generation: 820. 正答率(トレーニング) = 0.9912\n",
            "                : 820. 正答率(テスト) = 0.961\n",
            "Generation: 830. 正答率(トレーニング) = 0.988\n",
            "                : 830. 正答率(テスト) = 0.951\n",
            "Generation: 840. 正答率(トレーニング) = 0.99\n",
            "                : 840. 正答率(テスト) = 0.958\n",
            "Generation: 850. 正答率(トレーニング) = 0.9876\n",
            "                : 850. 正答率(テスト) = 0.954\n",
            "Generation: 860. 正答率(トレーニング) = 0.9912\n",
            "                : 860. 正答率(テスト) = 0.956\n",
            "Generation: 870. 正答率(トレーニング) = 0.9906\n",
            "                : 870. 正答率(テスト) = 0.954\n",
            "Generation: 880. 正答率(トレーニング) = 0.9926\n",
            "                : 880. 正答率(テスト) = 0.959\n",
            "Generation: 890. 正答率(トレーニング) = 0.9948\n",
            "                : 890. 正答率(テスト) = 0.956\n",
            "Generation: 900. 正答率(トレーニング) = 0.9932\n",
            "                : 900. 正答率(テスト) = 0.955\n",
            "Generation: 910. 正答率(トレーニング) = 0.9936\n",
            "                : 910. 正答率(テスト) = 0.965\n",
            "Generation: 920. 正答率(トレーニング) = 0.992\n",
            "                : 920. 正答率(テスト) = 0.954\n",
            "Generation: 930. 正答率(トレーニング) = 0.9938\n",
            "                : 930. 正答率(テスト) = 0.961\n",
            "Generation: 940. 正答率(トレーニング) = 0.993\n",
            "                : 940. 正答率(テスト) = 0.955\n",
            "Generation: 950. 正答率(トレーニング) = 0.9912\n",
            "                : 950. 正答率(テスト) = 0.959\n",
            "Generation: 960. 正答率(トレーニング) = 0.9944\n",
            "                : 960. 正答率(テスト) = 0.963\n",
            "Generation: 970. 正答率(トレーニング) = 0.9944\n",
            "                : 970. 正答率(テスト) = 0.951\n",
            "Generation: 980. 正答率(トレーニング) = 0.9946\n",
            "                : 980. 正答率(テスト) = 0.963\n",
            "Generation: 990. 正答率(トレーニング) = 0.9934\n",
            "                : 990. 正答率(テスト) = 0.956\n",
            "Generation: 1000. 正答率(トレーニング) = 0.9944\n",
            "                : 1000. 正答率(テスト) = 0.961\n"
          ],
          "name": "stdout"
        },
        {
          "output_type": "display_data",
          "data": {
            "image/png": "[encoded data removed]",
            "text/plain": [
              "<Figure size 432x288 with 1 Axes>"
            ]
          },
          "metadata": {
            "tags": [],
            "needs_background": "light"
          }
        }
      ]
    },
    {
      "cell_type": "code",
      "metadata": {
        "id": "s73PJTtv41a2"
      },
      "source": [
        ""
      ],
      "execution_count": 9,
      "outputs": []
    },
    {
      "cell_type": "code",
      "metadata": {
        "id": "IAtAWIrk41a4"
      },
      "source": [
        ""
      ],
      "execution_count": 9,
      "outputs": []
    },
    {
      "cell_type": "code",
      "metadata": {
        "id": "uUsVD5ef41a6"
      },
      "source": [
        ""
      ],
      "execution_count": 9,
      "outputs": []
    }
  ]
}