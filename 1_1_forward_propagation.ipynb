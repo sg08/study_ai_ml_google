{
  "nbformat": 4,
  "nbformat_minor": 0,
  "metadata": {
    "kernelspec": {
      "display_name": "Python 3",
      "language": "python",
      "name": "python3"
    },
    "language_info": {
      "codemirror_mode": {
        "name": "ipython",
        "version": 3
      },
      "file_extension": ".py",
      "mimetype": "text/x-python",
      "name": "python",
      "nbconvert_exporter": "python",
      "pygments_lexer": "ipython3",
      "version": "3.6.3"
    },
    "colab": {
      "name": "1_1_forward_propagation.ipynb",
      "provenance": [],
      "collapsed_sections": []
    }
  },
  "cells": [
    {
      "cell_type": "markdown",
      "metadata": {
        "id": "8cNl2QA_Rnv5"
      },
      "source": [
        "# 準備"
      ]
    },
    {
      "cell_type": "markdown",
      "metadata": {
        "id": "YkwjN1jNVAYy"
      },
      "source": [
        "## Googleドライブのマウント"
      ]
    },
    {
      "cell_type": "code",
      "metadata": {
        "id": "pvFXpiH3EVC1",
        "colab": {
          "base_uri": "https://localhost:8080/"
        },
        "outputId": "908d0a49-1ea3-48e3-def2-5545a5427805"
      },
      "source": [
        "from google.colab import drive\n",
        "drive.mount('/content/drive')"
      ],
      "execution_count": 1,
      "outputs": [
        {
          "output_type": "stream",
          "text": [
            "Drive already mounted at /content/drive; to attempt to forcibly remount, call drive.mount(\"/content/drive\", force_remount=True).\n"
          ],
          "name": "stdout"
        }
      ]
    },
    {
      "cell_type": "markdown",
      "metadata": {
        "id": "3Ub7RYdeY6pK"
      },
      "source": [
        "## sys.pathの設定"
      ]
    },
    {
      "cell_type": "markdown",
      "metadata": {
        "id": "oql7L19rEsWi"
      },
      "source": [
        "以下では，Googleドライブのマイドライブ直下にDNN_codeフォルダを置くことを仮定しています．必要に応じて，パスを変更してください．"
      ]
    },
    {
      "cell_type": "code",
      "metadata": {
        "id": "7Ic2JzkvFX59"
      },
      "source": [
        "import sys\n",
        "sys.path.append('/content/drive/My Drive/DNN_code_colab_lesson_1_2')"
      ],
      "execution_count": 2,
      "outputs": []
    },
    {
      "cell_type": "markdown",
      "metadata": {
        "id": "k5L0AWliZYng"
      },
      "source": [
        "# importと関数定義"
      ]
    },
    {
      "cell_type": "code",
      "metadata": {
        "id": "R-FDEiMPe3eE"
      },
      "source": [
        "import numpy as np\n",
        "from common import functions\n",
        "\n",
        "def print_vec(text, vec):\n",
        "    print(\"*** \" + text + \" ***\")\n",
        "    print(vec)\n",
        "    print(\"shape: \" + str(vec.shape))\n",
        "    print(\"\")\n"
      ],
      "execution_count": 3,
      "outputs": []
    },
    {
      "cell_type": "markdown",
      "metadata": {
        "id": "uqIgpdkPe5yR"
      },
      "source": [
        "# 順伝播（単層・単ユニット）"
      ]
    },
    {
      "cell_type": "code",
      "metadata": {
        "scrolled": true,
        "id": "5nwFXP3le3eJ",
        "colab": {
          "base_uri": "https://localhost:8080/"
        },
        "outputId": "73ffe3ff-ea63-4b64-ed61-3b3932cf3f96"
      },
      "source": [
        "# 順伝播（単層・単ユニット）\n",
        "\n",
        "# 重み\n",
        "W = np.array([[0.1], [0.2]])\n",
        "\n",
        "## 試してみよう_配列の初期化\n",
        "#W = np.zeros(2)\n",
        "#W = np.ones(2)\n",
        "#W = np.random.rand(2)\n",
        "W = np.random.randint(5, size=(2))\n",
        "\n",
        "print_vec(\"重み\", W)\n",
        "\n",
        "\n",
        "# バイアス\n",
        "b = 0.5\n",
        "b = np.array([0.5])\n",
        "\n",
        "## 試してみよう_数値の初期化\n",
        "#b = np.random.rand() # 0~1のランダム数値\n",
        "b = np.random.rand(1) * 10 -5  # -5~5のランダム数値\n",
        "\n",
        "print_vec(\"バイアス\", b)\n",
        "\n",
        "# 入力値\n",
        "x = np.array([2, 3])\n",
        "print_vec(\"入力\", x)\n",
        "\n",
        "\n",
        "# 総入力\n",
        "u = np.dot(x, W) + b\n",
        "print_vec(\"総入力\", u)\n",
        "\n",
        "# 中間層出力\n",
        "z = functions.relu(u)\n",
        "print_vec(\"中間層出力\", z)\n"
      ],
      "execution_count": 11,
      "outputs": [
        {
          "output_type": "stream",
          "text": [
            "*** 重み ***\n",
            "[4 0]\n",
            "shape: (2,)\n",
            "\n",
            "*** バイアス ***\n",
            "[1.03273321]\n",
            "shape: (1,)\n",
            "\n",
            "*** 入力 ***\n",
            "[2 3]\n",
            "shape: (2,)\n",
            "\n",
            "*** 総入力 ***\n",
            "[9.03273321]\n",
            "shape: (1,)\n",
            "\n",
            "*** 中間層出力 ***\n",
            "[9.03273321]\n",
            "shape: (1,)\n",
            "\n"
          ],
          "name": "stdout"
        }
      ]
    },
    {
      "cell_type": "markdown",
      "metadata": {
        "id": "FpOvW2Ple-zS"
      },
      "source": [
        "# 順伝播（単層・複数ユニット）\n"
      ]
    },
    {
      "cell_type": "code",
      "metadata": {
        "id": "kUxj9ZGWe3eL",
        "colab": {
          "base_uri": "https://localhost:8080/"
        },
        "outputId": "68cd58c1-f1bc-4301-cf94-234e590ed23c"
      },
      "source": [
        "# 順伝播（単層・複数ユニット）\n",
        "\n",
        "# 重み\n",
        "W = np.array([\n",
        "    [0.1, 0.2, 0.3], \n",
        "    [0.2, 0.3, 0.4], \n",
        "    [0.3, 0.4, 0.5],\n",
        "    [0.4, 0.5, 0.6]\n",
        "])\n",
        "\n",
        "## 試してみよう_配列の初期化\n",
        "#W = np.zeros((4,3))\n",
        "#W = np.ones((4,3))\n",
        "W = np.random.rand(4,3)\n",
        "#W = np.random.randint(5, size=(4,3))\n",
        "\n",
        "print_vec(\"重み\", W)\n",
        "\n",
        "# バイアス\n",
        "b = np.array([0.1, 0.2, 0.3])\n",
        "print_vec(\"バイアス\", b)\n",
        "\n",
        "# 入力値\n",
        "x = np.array([1.0, 5.0, 2.0, -1.0])\n",
        "print_vec(\"入力\", x)\n",
        "\n",
        "\n",
        "#  総入力\n",
        "u = np.dot(x, W) + b\n",
        "print_vec(\"総入力\", u)\n",
        "\n",
        "# 中間層出力\n",
        "z = functions.sigmoid(u)\n",
        "print_vec(\"中間層出力\", z)\n"
      ],
      "execution_count": 5,
      "outputs": [
        {
          "output_type": "stream",
          "text": [
            "*** 重み ***\n",
            "[[0.53480533 0.53346551 0.42603807]\n",
            " [0.03722394 0.91755407 0.11927317]\n",
            " [0.94070613 0.18191074 0.07671629]\n",
            " [0.26336534 0.16195663 0.63707332]]\n",
            "shape: (4, 3)\n",
            "\n",
            "*** バイアス ***\n",
            "[0.1 0.2 0.3]\n",
            "shape: (3,)\n",
            "\n",
            "*** 入力 ***\n",
            "[ 1.  5.  2. -1.]\n",
            "shape: (4,)\n",
            "\n",
            "*** 総入力 ***\n",
            "[2.43897194 5.52310073 0.8387632 ]\n",
            "shape: (3,)\n",
            "\n",
            "*** 中間層出力 ***\n",
            "[0.91975124 0.99602244 0.69820467]\n",
            "shape: (3,)\n",
            "\n"
          ],
          "name": "stdout"
        }
      ]
    },
    {
      "cell_type": "markdown",
      "metadata": {
        "id": "75hN-MtofBBE"
      },
      "source": [
        "# 順伝播（3層・複数ユニット）"
      ]
    },
    {
      "cell_type": "code",
      "metadata": {
        "id": "SrWWI-XXe3eO",
        "colab": {
          "base_uri": "https://localhost:8080/"
        },
        "outputId": "86b41efd-21cd-4593-9e95-691f1e842563"
      },
      "source": [
        "# 順伝播（3層・複数ユニット）\n",
        "\n",
        "# ウェイトとバイアスを設定\n",
        "# ネートワークを作成\n",
        "def init_network():\n",
        "    print(\"##### ネットワークの初期化 #####\")\n",
        "    network = {}\n",
        "    \n",
        "    #試してみよう\n",
        "    #_各パラメータのshapeを表示\n",
        "    #_ネットワークの初期値ランダム生成\n",
        "    \n",
        "    network['W1'] = np.array([\n",
        "        [0.1, 0.3, 0.5],\n",
        "        [0.2, 0.4, 0.6]\n",
        "    ])\n",
        "    network['W1'] = np.random.rand(2,3)\n",
        "    network['W2'] = np.array([\n",
        "        [0.1, 0.4],\n",
        "        [0.2, 0.5],\n",
        "        [0.3, 0.6]\n",
        "    ])\n",
        "    network['W2'] = np.random.rand(3,2)\n",
        "    network['W3'] = np.array([\n",
        "        [0.1, 0.3],\n",
        "        [0.2, 0.4]\n",
        "    ])\n",
        "    network['W3'] = np.random.rand(2,2)\n",
        "    network['b1'] = np.array([0.1, 0.2, 0.3])\n",
        "    network['b1'] = np.random.rand(3)\n",
        "    network['b2'] = np.array([0.1, 0.2])\n",
        "    network['b2'] = np.random.rand(2)\n",
        "    network['b3'] = np.array([1, 2])\n",
        "    network['b3'] = np.random.rand(2)\n",
        "\n",
        "    print_vec(\"重み1\", network['W1'] )\n",
        "    print_vec(\"重み2\", network['W2'] )\n",
        "    print_vec(\"重み3\", network['W3'] )\n",
        "    print_vec(\"バイアス1\", network['b1'] )\n",
        "    print_vec(\"バイアス2\", network['b2'] )\n",
        "    print_vec(\"バイアス3\", network['b3'] )\n",
        "\n",
        "    return network\n",
        "\n",
        "# プロセスを作成\n",
        "# x：入力値\n",
        "def forward(network, x):\n",
        "    \n",
        "    print(\"##### 順伝播開始 #####\")\n",
        "\n",
        "    W1, W2, W3 = network['W1'], network['W2'], network['W3']\n",
        "    b1, b2, b3 = network['b1'], network['b2'], network['b3']\n",
        "    \n",
        "    # 1層の総入力\n",
        "    u1 = np.dot(x, W1) + b1\n",
        "    \n",
        "    # 1層の総出力\n",
        "    z1 = functions.relu(u1)\n",
        "    \n",
        "    # 2層の総入力\n",
        "    u2 = np.dot(z1, W2) + b2\n",
        "    \n",
        "    # 2層の総出力\n",
        "    z2 = functions.relu(u2)\n",
        "\n",
        "    # 出力層の総入力\n",
        "    u3 = np.dot(z2, W3) + b3\n",
        "    \n",
        "    # 出力層の総出力\n",
        "    y = u3\n",
        "    \n",
        "    print_vec(\"総入力1\", u1)\n",
        "    print_vec(\"中間層出力1\", z1)\n",
        "    print_vec(\"総入力2\", u2)\n",
        "    print_vec(\"出力1\", z1)\n",
        "    print(\"出力合計: \" + str(np.sum(z1)))\n",
        "\n",
        "    return y, z1, z2\n",
        "\n",
        "# 入力値\n",
        "x = np.array([1., 2.])\n",
        "print_vec(\"入力\", x)\n",
        "\n",
        "# ネットワークの初期化\n",
        "network =  init_network()\n",
        "\n",
        "y, z1, z2 = forward(network, x)"
      ],
      "execution_count": 12,
      "outputs": [
        {
          "output_type": "stream",
          "text": [
            "*** 入力 ***\n",
            "[1. 2.]\n",
            "shape: (2,)\n",
            "\n",
            "##### ネットワークの初期化 #####\n",
            "*** 重み1 ***\n",
            "[[0.10617664 0.42064717 0.8733328 ]\n",
            " [0.03364186 0.78532061 0.615109  ]]\n",
            "shape: (2, 3)\n",
            "\n",
            "*** 重み2 ***\n",
            "[[0.93114547 0.45586784]\n",
            " [0.96170848 0.3808952 ]\n",
            " [0.38721086 0.70642264]]\n",
            "shape: (3, 2)\n",
            "\n",
            "*** 重み3 ***\n",
            "[[0.06869698 0.49794525]\n",
            " [0.43629827 0.80751985]]\n",
            "shape: (2, 2)\n",
            "\n",
            "*** バイアス1 ***\n",
            "[0.19331584 0.50786667 0.06949044]\n",
            "shape: (3,)\n",
            "\n",
            "*** バイアス2 ***\n",
            "[0.1515491  0.31462296]\n",
            "shape: (2,)\n",
            "\n",
            "*** バイアス3 ***\n",
            "[0.7615572  0.83679979]\n",
            "shape: (2,)\n",
            "\n",
            "##### 順伝播開始 #####\n",
            "*** 総入力1 ***\n",
            "[0.36677621 2.49915506 2.17304125]\n",
            "shape: (3,)\n",
            "\n",
            "*** 中間層出力1 ***\n",
            "[0.36677621 2.49915506 2.17304125]\n",
            "shape: (3,)\n",
            "\n",
            "*** 総入力2 ***\n",
            "[3.73795489 2.96882615]\n",
            "shape: (2,)\n",
            "\n",
            "*** 出力1 ***\n",
            "[0.36677621 2.49915506 2.17304125]\n",
            "shape: (3,)\n",
            "\n",
            "出力合計: 5.038972518663849\n"
          ],
          "name": "stdout"
        }
      ]
    },
    {
      "cell_type": "markdown",
      "metadata": {
        "id": "7Np6NwxQfFas"
      },
      "source": [
        "# 多クラス分類（2-3-4ネットワーク）"
      ]
    },
    {
      "cell_type": "code",
      "metadata": {
        "id": "8uypKa5Re3eQ",
        "colab": {
          "base_uri": "https://localhost:8080/"
        },
        "outputId": "1e127647-c3bf-42d4-e128-17b1e981bfc5"
      },
      "source": [
        "# 多クラス分類\n",
        "# 2-3-4ネットワーク\n",
        "\n",
        "# ！試してみよう_ノードの構成を 3-5-4 に変更してみよう\n",
        "\n",
        "# ウェイトとバイアスを設定\n",
        "# ネートワークを作成\n",
        "def init_network():\n",
        "    print(\"##### ネットワークの初期化 #####\")\n",
        "\n",
        "    #試してみよう\n",
        "    #_各パラメータのshapeを表示\n",
        "    #_ネットワークの初期値ランダム生成\n",
        "\n",
        "    network = {}\n",
        "    # network['W1'] = np.array([\n",
        "    #     [0.1, 0.3, 0.5],\n",
        "    #     [0.2, 0.4, 0.6]\n",
        "    # ])\n",
        "    network['W1'] = np.random.rand(3,5)\n",
        "    # network['W2'] = np.array([\n",
        "    #     [0.1, 0.4, 0.7, 1.0],\n",
        "    #     [0.2, 0.5, 0.8, 1.1],\n",
        "    #     [0.3, 0.6, 0.9, 1.2]\n",
        "    # ])\n",
        "    network['W2'] = np.random.rand(5,4)\n",
        "    # network['b1'] = np.array([0.1, 0.2, 0.3])\n",
        "    network['b1'] = np.random.rand(5)\n",
        "    # network['b2'] = np.array([0.1, 0.2, 0.3, 0.4])\n",
        "    network['b2'] = np.random.rand(4)\n",
        "    \n",
        "    print_vec(\"重み1\", network['W1'] )\n",
        "    print_vec(\"重み2\", network['W2'] )\n",
        "    print_vec(\"バイアス1\", network['b1'] )\n",
        "    print_vec(\"バイアス2\", network['b2'] )\n",
        "\n",
        "    return network\n",
        "\n",
        "# プロセスを作成\n",
        "# x：入力値\n",
        "def forward(network, x):\n",
        "    \n",
        "    print(\"##### 順伝播開始 #####\")\n",
        "    W1, W2 = network['W1'], network['W2']\n",
        "    b1, b2 = network['b1'], network['b2']\n",
        "    \n",
        "    # 1層の総入力\n",
        "    u1 = np.dot(x, W1) + b1\n",
        "\n",
        "    # 1層の総出力\n",
        "    z1 = functions.relu(u1)\n",
        "\n",
        "    # 2層の総入力\n",
        "    u2 = np.dot(z1, W2) + b2\n",
        "    \n",
        "    # 出力値\n",
        "    y = functions.softmax(u2)\n",
        "    \n",
        "    print_vec(\"総入力1\", u1)\n",
        "    print_vec(\"中間層出力1\", z1)\n",
        "    print_vec(\"総入力2\", u2)\n",
        "    print_vec(\"出力1\", y)\n",
        "    print(\"出力合計: \" + str(np.sum(y)))\n",
        "        \n",
        "    return y, z1\n",
        "\n",
        "## 事前データ\n",
        "# 入力値\n",
        "x = np.array([1., 2., 3.])\n",
        "\n",
        "# 目標出力\n",
        "d = np.array([0, 0, 0, 1])\n",
        "\n",
        "# ネットワークの初期化\n",
        "network =  init_network()\n",
        "\n",
        "# 出力\n",
        "y, z1 = forward(network, x)\n",
        "\n",
        "# 誤差\n",
        "loss = functions.cross_entropy_error(d, y)\n",
        "\n",
        "## 表示\n",
        "print(\"\\n##### 結果表示 #####\")\n",
        "print_vec(\"出力\", y)\n",
        "print_vec(\"訓練データ\", d)\n",
        "print_vec(\"誤差\",  loss)\n",
        "\n"
      ],
      "execution_count": 13,
      "outputs": [
        {
          "output_type": "stream",
          "text": [
            "##### ネットワークの初期化 #####\n",
            "*** 重み1 ***\n",
            "[[0.93016403 0.39578019 0.86323594 0.64389467 0.39203273]\n",
            " [0.33175114 0.27961138 0.1611105  0.31983037 0.98478388]\n",
            " [0.52023861 0.47771643 0.85420109 0.09765756 0.07131366]]\n",
            "shape: (3, 5)\n",
            "\n",
            "*** 重み2 ***\n",
            "[[0.13361392 0.71637494 0.11795237 0.29524945]\n",
            " [0.12766204 0.55944784 0.65183178 0.6061149 ]\n",
            " [0.21893375 0.13445611 0.5571538  0.19813706]\n",
            " [0.18762512 0.81747764 0.64960216 0.05167609]\n",
            " [0.0292715  0.02363686 0.95127432 0.20828081]]\n",
            "shape: (5, 4)\n",
            "\n",
            "*** バイアス1 ***\n",
            "[0.66511281 0.09099187 0.4060593  0.90934701 0.2692253 ]\n",
            "shape: (5,)\n",
            "\n",
            "*** バイアス2 ***\n",
            "[0.8643586  0.3342321  0.31516167 0.69647228]\n",
            "shape: (4,)\n",
            "\n",
            "##### 順伝播開始 #####\n",
            "*** 総入力1 ***\n",
            "[3.81949495 2.4791441  4.1541195  2.48587511 2.84476676]\n",
            "shape: (5,)\n",
            "\n",
            "*** 中間層出力1 ***\n",
            "[3.81949495 2.4791441  4.1541195  2.48587511 2.84476676]\n",
            "shape: (5,)\n",
            "\n",
            "*** 総入力2 ***\n",
            "[3.15034901 7.11530978 9.01713192 4.87087792]\n",
            "shape: (4,)\n",
            "\n",
            "*** 出力1 ***\n",
            "[0.00242473 0.12782747 0.85619966 0.01354814]\n",
            "shape: (4,)\n",
            "\n",
            "出力合計: 1.0000000000000002\n",
            "\n",
            "##### 結果表示 #####\n",
            "*** 出力 ***\n",
            "[0.00242473 0.12782747 0.85619966 0.01354814]\n",
            "shape: (4,)\n",
            "\n",
            "*** 訓練データ ***\n",
            "[0 0 0 1]\n",
            "shape: (4,)\n",
            "\n",
            "*** 誤差 ***\n",
            "4.301498301781357\n",
            "shape: ()\n",
            "\n"
          ],
          "name": "stdout"
        }
      ]
    },
    {
      "cell_type": "markdown",
      "metadata": {
        "id": "pN2ldtNRfL-r"
      },
      "source": [
        "# 回帰（2-3-2ネットワーク）"
      ]
    },
    {
      "cell_type": "code",
      "metadata": {
        "id": "AwigBRlBe3eS",
        "colab": {
          "base_uri": "https://localhost:8080/"
        },
        "outputId": "a7ad303f-b360-46f9-f5e3-05e243c8afa1"
      },
      "source": [
        "# 回帰\n",
        "# 2-3-2ネットワーク\n",
        "\n",
        "# ！試してみよう_ノードの構成を 3-5-4 に変更してみよう\n",
        "\n",
        "# ウェイトとバイアスを設定\n",
        "# ネートワークを作成\n",
        "def init_network():\n",
        "    print(\"##### ネットワークの初期化 #####\")\n",
        "\n",
        "    network = {}\n",
        "    # network['W1'] = np.array([\n",
        "    #     [0.1, 0.3, 0.5],\n",
        "    #     [0.2, 0.4, 0.6]\n",
        "    # ])\n",
        "    network['W1'] = np.random.rand(3,5)\n",
        "    # network['W2'] = np.array([\n",
        "    #     [0.1, 0.4],\n",
        "    #     [0.2, 0.5],\n",
        "    #     [0.3, 0.6]\n",
        "    # ])\n",
        "    network['W2'] = np.random.rand(5,4)\n",
        "    # network['b1'] = np.array([0.1, 0.2, 0.3])\n",
        "    network['b1'] = np.random.rand(5)\n",
        "    # network['b2'] = np.array([0.1, 0.2])\n",
        "    network['b2'] = np.random.rand(4)\n",
        "    \n",
        "    print_vec(\"重み1\", network['W1'] )\n",
        "    print_vec(\"重み2\", network['W2'] )\n",
        "    print_vec(\"バイアス1\", network['b1'] )\n",
        "    print_vec(\"バイアス2\", network['b2'] )\n",
        "\n",
        "    return network\n",
        "\n",
        "# プロセスを作成\n",
        "def forward(network, x):\n",
        "    print(\"##### 順伝播開始 #####\")\n",
        "    \n",
        "    W1, W2 = network['W1'], network['W2']\n",
        "    b1, b2 = network['b1'], network['b2']\n",
        "    # 隠れ層の総入力\n",
        "    u1 = np.dot(x, W1) + b1\n",
        "    # 隠れ層の総出力\n",
        "    z1 = functions.relu(u1)\n",
        "    # 出力層の総入力\n",
        "    u2 = np.dot(z1, W2) + b2\n",
        "    # 出力層の総出力\n",
        "    y = u2\n",
        "    \n",
        "    print_vec(\"総入力1\", u1)\n",
        "    print_vec(\"中間層出力1\", z1)\n",
        "    print_vec(\"総入力2\", u2)\n",
        "    print_vec(\"出力1\", y)\n",
        "    print(\"出力合計: \" + str(np.sum(z1)))\n",
        "    \n",
        "    return y, z1\n",
        "\n",
        "# 入力値\n",
        "x = np.array([1., 2., 3.])\n",
        "network =  init_network()\n",
        "y, z1 = forward(network, x)\n",
        "# 目標出力\n",
        "d = np.array([2., 4., 8., 16.])\n",
        "# 誤差\n",
        "loss = functions.mean_squared_error(d, y)\n",
        "## 表示\n",
        "print(\"\\n##### 結果表示 #####\")\n",
        "print_vec(\"中間層出力\", z1)\n",
        "print_vec(\"出力\", y)\n",
        "print_vec(\"訓練データ\", d)\n",
        "print_vec(\"誤差\",  loss)\n"
      ],
      "execution_count": 14,
      "outputs": [
        {
          "output_type": "stream",
          "text": [
            "##### ネットワークの初期化 #####\n",
            "*** 重み1 ***\n",
            "[[0.60466381 0.80548001 0.15333091 0.93958995 0.23839108]\n",
            " [0.66001988 0.383976   0.6055149  0.9773219  0.36122121]\n",
            " [0.87670123 0.12560542 0.54945345 0.07919138 0.36122962]]\n",
            "shape: (3, 5)\n",
            "\n",
            "*** 重み2 ***\n",
            "[[0.51143901 0.15568646 0.3011049  0.34490875]\n",
            " [0.57190602 0.20524705 0.73027722 0.89325012]\n",
            " [0.89451571 0.78604548 0.97297035 0.70129293]\n",
            " [0.05436464 0.59339508 0.13681941 0.30160526]\n",
            " [0.47311561 0.26581602 0.83800512 0.88151855]]\n",
            "shape: (5, 4)\n",
            "\n",
            "*** バイアス1 ***\n",
            "[0.69324927 0.49753416 0.25168912 0.15988095 0.60551248]\n",
            "shape: (5,)\n",
            "\n",
            "*** バイアス2 ***\n",
            "[0.44703404 0.10852042 0.5915207  0.24360741]\n",
            "shape: (4,)\n",
            "\n",
            "##### 順伝播開始 #####\n",
            "*** 総入力1 ***\n",
            "[5.24805652 2.44778242 3.26441018 3.29168884 2.65003483]\n",
            "shape: (5,)\n",
            "\n",
            "*** 中間層出力1 ***\n",
            "[5.24805652 2.44778242 3.26441018 3.29168884 2.65003483]\n",
            "shape: (5,)\n",
            "\n",
            "*** 総入力2 ***\n",
            "[8.88378689 6.65164039 9.80657996 9.85834325]\n",
            "shape: (4,)\n",
            "\n",
            "*** 出力1 ***\n",
            "[8.88378689 6.65164039 9.80657996 9.85834325]\n",
            "shape: (4,)\n",
            "\n",
            "出力合計: 16.901972794625443\n",
            "\n",
            "##### 結果表示 #####\n",
            "*** 中間層出力 ***\n",
            "[5.24805652 2.44778242 3.26441018 3.29168884 2.65003483]\n",
            "shape: (5,)\n",
            "\n",
            "*** 出力 ***\n",
            "[8.88378689 6.65164039 9.80657996 9.85834325]\n",
            "shape: (4,)\n",
            "\n",
            "*** 訓練データ ***\n",
            "[ 2.  4.  8. 16.]\n",
            "shape: (4,)\n",
            "\n",
            "*** 誤差 ***\n",
            "11.92517468882002\n",
            "shape: ()\n",
            "\n"
          ],
          "name": "stdout"
        }
      ]
    },
    {
      "cell_type": "markdown",
      "metadata": {
        "id": "w0anM_0RfQqj"
      },
      "source": [
        "# 2値分類（2-3-1ネットワーク）"
      ]
    },
    {
      "cell_type": "code",
      "metadata": {
        "id": "Zm2-u-UNe3eU",
        "colab": {
          "base_uri": "https://localhost:8080/"
        },
        "outputId": "38aec4e9-49d5-46fc-bf7c-41e42d1e45fa"
      },
      "source": [
        "# 2値分類\n",
        "# 2-3-1ネットワーク\n",
        "\n",
        "# ！試してみよう_ノードの構成を 5-10-1 に変更してみよう\n",
        "\n",
        "# ウェイトとバイアスを設定\n",
        "# ネートワークを作成\n",
        "def init_network():\n",
        "    print(\"##### ネットワークの初期化 #####\")\n",
        "\n",
        "    network = {}\n",
        "    # network['W1'] = np.array([\n",
        "    #     [0.1, 0.3, 0.5],\n",
        "    #     [0.2, 0.4, 0.6]\n",
        "    # ])\n",
        "    network['W1'] = np.random.rand(5,10)\n",
        "    # network['W2'] = np.array([\n",
        "    #     [0.2],\n",
        "    #     [0.4],\n",
        "    #     [0.6]\n",
        "    # ])\n",
        "    network['W2'] = np.random.rand(10,1)\n",
        "    # network['b1'] = np.array([0.1, 0.2, 0.3])\n",
        "    network['b1'] = np.random.rand(10)\n",
        "    # network['b2'] = np.array([0.1])\n",
        "    network['b2'] = np.random.rand(1)\n",
        "    return network\n",
        "\n",
        "\n",
        "# プロセスを作成\n",
        "def forward(network, x):\n",
        "    print(\"##### 順伝播開始 #####\")\n",
        "    \n",
        "    W1, W2 = network['W1'], network['W2']\n",
        "    b1, b2 = network['b1'], network['b2']    \n",
        "\n",
        "    # 隠れ層の総入力\n",
        "    u1 = np.dot(x, W1) + b1\n",
        "    # 隠れ層の総出力\n",
        "    z1 = functions.relu(u1)\n",
        "    # 出力層の総入力\n",
        "    u2 = np.dot(z1, W2) + b2\n",
        "    # 出力層の総出力\n",
        "    y = functions.sigmoid(u2)\n",
        "            \n",
        "    print_vec(\"総入力1\", u1)\n",
        "    print_vec(\"中間層出力1\", z1)\n",
        "    print_vec(\"総入力2\", u2)\n",
        "    print_vec(\"出力1\", y)\n",
        "    print(\"出力合計: \" + str(np.sum(z1)))\n",
        "\n",
        "    return y, z1\n",
        "\n",
        "\n",
        "# 入力値\n",
        "x = np.array([1., 2., 3., 4., 5.])\n",
        "# 目標出力\n",
        "d = np.array([1])\n",
        "network =  init_network()\n",
        "y, z1 = forward(network, x)\n",
        "# 誤差\n",
        "loss = functions.cross_entropy_error(d, y)\n",
        "\n",
        "## 表示\n",
        "print(\"\\n##### 結果表示 #####\")\n",
        "print_vec(\"中間層出力\", z1)\n",
        "print_vec(\"出力\", y)\n",
        "print_vec(\"訓練データ\", d)\n",
        "print_vec(\"誤差\",  loss)"
      ],
      "execution_count": 16,
      "outputs": [
        {
          "output_type": "stream",
          "text": [
            "##### ネットワークの初期化 #####\n",
            "##### 順伝播開始 #####\n",
            "*** 総入力1 ***\n",
            "[13.63762235  6.74770535  5.77446302  3.43357995  6.45307587  7.84504641\n",
            "  6.44099899 11.25278934 10.26217915  6.43493579]\n",
            "shape: (10,)\n",
            "\n",
            "*** 中間層出力1 ***\n",
            "[13.63762235  6.74770535  5.77446302  3.43357995  6.45307587  7.84504641\n",
            "  6.44099899 11.25278934 10.26217915  6.43493579]\n",
            "shape: (10,)\n",
            "\n",
            "*** 総入力2 ***\n",
            "[38.96929143]\n",
            "shape: (1,)\n",
            "\n",
            "*** 出力1 ***\n",
            "[1.]\n",
            "shape: (1,)\n",
            "\n",
            "出力合計: 78.28239623416204\n",
            "\n",
            "##### 結果表示 #####\n",
            "*** 中間層出力 ***\n",
            "[13.63762235  6.74770535  5.77446302  3.43357995  6.45307587  7.84504641\n",
            "  6.44099899 11.25278934 10.26217915  6.43493579]\n",
            "shape: (10,)\n",
            "\n",
            "*** 出力 ***\n",
            "[1.]\n",
            "shape: (1,)\n",
            "\n",
            "*** 訓練データ ***\n",
            "[1]\n",
            "shape: (1,)\n",
            "\n",
            "*** 誤差 ***\n",
            "-9.999999505838704e-08\n",
            "shape: ()\n",
            "\n"
          ],
          "name": "stdout"
        }
      ]
    },
    {
      "cell_type": "code",
      "metadata": {
        "id": "jnav83OzEl17"
      },
      "source": [
        ""
      ],
      "execution_count": null,
      "outputs": []
    }
  ]
}